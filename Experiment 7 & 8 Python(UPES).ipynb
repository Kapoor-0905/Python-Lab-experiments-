{
 "cells":[
  {
   "cell_type":"code",
   "source":[
    "#Q2 \n",
    "\n",
    "with open(\"rhyme.txt\",\"w\") as f:\n",
    "    f.write(\"Jingle bells Jingle bells\\n\")\n",
    "    f.write(\"Jingle all the way\\n\")\n",
    "    f.write(\"Oh what funis it to ride\\n\")\n",
    "    f.write(\"In a one horse open sleigh\\n\")\n",
    "    f.write(\"Jingle bells Jingle bells\\n\")\n",
    "    f.write(\"Jingle all the way\")"
   ],
   "execution_count":1,
   "outputs":[
    
   ],
   "metadata":{
    "datalore":{
     "type":"CODE",
     "hide_input_from_viewers":false,
     "hide_output_from_viewers":false,
     "node_id":"HqwwEO35HZpJTxMOqFJZIN"
    }
   }
  },
  {
   "cell_type":"code",
   "source":[
    "#Q2\n",
    "f = open(\"rhyme.txt\",\"r\")\n",
    "f1 = open(\"word.txt\",\"w\")\n",
    "d = f.read()\n",
    "lst = d.split()\n",
    "l = len(lst)\n",
    "dict1 = {}\n",
    "dict2 = {}\n",
    "lst1=[]\n",
    "for i in range(0,l):\n",
    "    dict1[i] = lst[i]\n",
    "for key,value in dict1.items():\n",
    "    dict2.setdefault(value,set()).add(key)\n",
    "    [key for key,value in dict2.items() if len(value)>1]\n",
    "\n",
    "\n",
    "for i in set(dict2):\n",
    "    f1.write(i)\n",
    "    f1.write(\"\\n\")\n",
    "f1.write(\"\\n\")\n",
    "f1.write(str(len(set(dict2))))\n",
    "f1.write(\"\\n\")\n",
    "\n",
    "f.close()\n",
    "f1.close()\n",
    "    "
   ],
   "execution_count":42,
   "outputs":[
    
   ],
   "metadata":{
    "datalore":{
     "type":"CODE",
     "hide_input_from_viewers":false,
     "hide_output_from_viewers":false,
     "node_id":"SWOSKKnPLHL4ayiwGUShzH"
    }
   }
  },
  {
   "cell_type":"code",
   "source":[
    "f = open(\"word.txt\")\n",
    "d = f.read()\n",
    "print(d)"
   ],
   "execution_count":43,
   "outputs":[
    {
     "name":"stdout",
     "text":[
      "open\n",
      "sleigh\n",
      "In\n",
      "a\n",
      "the\n",
      "horse\n",
      "way\n",
      "bells\n",
      "Oh\n",
      "all\n",
      "ride\n",
      "fun\n",
      "to\n",
      "it\n",
      "is\n",
      "one\n",
      "what\n",
      "Jingle\n",
      "\n",
      "18\n",
      "\n"
     ],
     "output_type":"stream"
    }
   ],
   "metadata":{
    "datalore":{
     "type":"CODE",
     "hide_input_from_viewers":false,
     "hide_output_from_viewers":false,
     "node_id":"4GZa7jMRdt0g494rfmCb9J"
    }
   }
  },
  {
   "cell_type":"code",
   "source":[
    "#Q3 \n",
    "f = open(\"city.txt\", 'w')\n",
    "f.write(\"Dehradun 5.78 308.20\\n\")\n",
    "f.write(\"Delhi 19 1484\\n\")\n",
    "f.write(\"Mumbai 20.5 1547\\n\")\n",
    "f.write(\"Kolkata 17 1584\\n\")\n",
    "f.write(\"Chennai 17.5 1657\")\n",
    "f.close()\n",
    "\n",
    "#Q3 (a)\n",
    "f = open(\"city.txt\",\"r\")\n",
    "d = f.read()\n",
    "print(d)\n",
    "print(\"\\n\")\n",
    "f.close()\n",
    "\n",
    "\n",
    "#Q3 (b)\n",
    "\n",
    "f = open(\"city.txt\",\"r\")\n",
    "for i in f:\n",
    "    list1 = i.split(\" \")\n",
    "    if float(list1[1]) < 10:\n",
    "        continue\n",
    "    print(list1[0])\n",
    "print(\"\\n\")\n",
    "f.close()\n",
    "\n",
    "f = open(\"city.txt\",\"r\")\n",
    "area_sum = 0\n",
    "for i in f:\n",
    "    lst = i.split(\" \")\n",
    "    area_sum+=float(lst[2])\n",
    "print(\"Sum of the area of all the cities is: \",area_sum,\"sq KM\")\n",
    "f.close()"
   ],
   "execution_count":7,
   "outputs":[
    {
     "name":"stdout",
     "text":[
      "Dehradun 5.78 308.20\n",
      "Delhi 19 1484\n",
      "Mumbai 20.5 1547\n",
      "Kolkata 17 1584\n",
      "Chennai 17.5 1657\n",
      "\n",
      "\n",
      "Delhi\n",
      "Mumbai\n",
      "Kolkata\n",
      "Chennai\n",
      "\n",
      "\n",
      "Sum of the area of all the cities is:  6580.2 sq KM\n"
     ],
     "output_type":"stream"
    }
   ],
   "metadata":{
    "datalore":{
     "type":"CODE",
     "hide_input_from_viewers":false,
     "hide_output_from_viewers":false,
     "node_id":"qfza3mUbSaCF7aXn9RzqQq"
    }
   }
  },
  {
   "cell_type":"code",
   "source":[
    "#Q1\n",
    "f = open(\"testfile1.txt\",\"w\")\n",
    "f.write('Jack said, \"Hello Pune\".')\n",
    "f.close()\n",
    "\n",
    "f1 = open(\"testfile2.txt\",\"w\") \n",
    "f = open(\"testfile1.txt\",\"r\")\n",
    "d = f.read()\n",
    "lst = []\n",
    "for i in range(0,len(d)):\n",
    "    print(d[i],end=\"\")\n",
    "    lst.append(d[i])\n",
    "    if(lst[i] == '\\\"'):\n",
    "        lst[i] = '\\\\\"'\n",
    "        \n",
    "print(\"\\n\")\n",
    "text = \"\".join(lst)\n",
    "f1.write(text)\n",
    "f1.close()\n",
    "\n",
    "f1 = open(\"testfile2.txt\",\"r\")\n",
    "a = f1.read()\n",
    "print(a)\n"
   ],
   "execution_count":73,
   "outputs":[
    {
     "name":"stdout",
     "text":[
      "Jack said, \"Hello Pune\".\n",
      "\n",
      "Jack said, \\\"Hello Pune\\\".\n"
     ],
     "output_type":"stream"
    }
   ],
   "metadata":{
    "datalore":{
     "type":"CODE",
     "hide_input_from_viewers":false,
     "hide_output_from_viewers":false,
     "node_id":"f0LrQCURClcNRdp5IoAHPl"
    }
   }
  }
 ],
 "metadata":{
  "datalore":{
   "version":1,
   "computation_mode":"JUPYTER",
   "package_manager":"pip",
   "base_environment":"default",
   "packages":[
    
   ]
  }
 },
 "nbformat":4,
 "nbformat_minor":4
}